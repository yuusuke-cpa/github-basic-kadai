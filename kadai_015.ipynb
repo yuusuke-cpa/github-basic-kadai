{
  "nbformat": 4,
  "nbformat_minor": 0,
  "metadata": {
    "colab": {
      "provenance": []
    },
    "kernelspec": {
      "name": "python3",
      "display_name": "Python 3"
    },
    "language_info": {
      "name": "python"
    }
  },
  "cells": [
    {
      "cell_type": "code",
      "source": [
        "class Human:\n",
        "    def __init__(self, name, age):\n",
        "        self.name = name\n",
        "        self.age = age\n",
        "\n",
        "    def printinfo(self):\n",
        "        print(self.name, self.age)\n",
        "\n",
        "# Humanクラスのインスタンスを複数生成\n",
        "person1 = Human(\"侍太郎\", 36)\n",
        "person2 = Human(\"花子\", 24)\n",
        "\n",
        "# インスタンスに属するメソッドを使用して情報を出力\n",
        "person1.printinfo()\n",
        "person2.printinfo()"
      ],
      "metadata": {
        "colab": {
          "base_uri": "https://localhost:8080/"
        },
        "id": "GLtrXzg26XtJ",
        "outputId": "d1db697c-9b42-4e4b-a5c4-04095803d14d"
      },
      "execution_count": 1,
      "outputs": [
        {
          "output_type": "stream",
          "name": "stdout",
          "text": [
            "侍太郎 36\n",
            "花子 24\n"
          ]
        }
      ]
    },
    {
      "cell_type": "markdown",
      "source": [],
      "metadata": {
        "id": "EYrruig-mGUK"
      }
    }
  ]
}