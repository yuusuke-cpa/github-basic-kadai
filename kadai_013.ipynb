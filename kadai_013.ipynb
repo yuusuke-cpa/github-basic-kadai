{
  "nbformat": 4,
  "nbformat_minor": 0,
  "metadata": {
    "colab": {
      "provenance": []
    },
    "kernelspec": {
      "name": "python3",
      "display_name": "Python 3"
    },
    "language_info": {
      "name": "python"
    }
  },
  "cells": [
    {
      "cell_type": "code",
      "source": [
        "def add_two_products(price,tax):\n",
        "  total = price + price*tax/100\n",
        "  print(f\"{total}円\")\n",
        "\n",
        "add_two_products(500,10)"
      ],
      "metadata": {
        "colab": {
          "base_uri": "https://localhost:8080/"
        },
        "id": "dXoXCZGCqARB",
        "outputId": "75faa437-6cf9-4160-c9b7-48551beac451"
      },
      "execution_count": 3,
      "outputs": [
        {
          "output_type": "stream",
          "name": "stdout",
          "text": [
            "550.0円\n"
          ]
        }
      ]
    }
  ]
}