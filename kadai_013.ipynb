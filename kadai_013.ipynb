{
  "nbformat": 4,
  "nbformat_minor": 0,
  "metadata": {
    "colab": {
      "provenance": []
    },
    "kernelspec": {
      "name": "python3",
      "display_name": "Python 3"
    },
    "language_info": {
      "name": "python"
    }
  },
  "cells": [
    {
      "cell_type": "code",
      "source": [
        "def add_two_products(price, tax):\n",
        "    total = price + price * tax / 100\n",
        "    return total\n",
        "\n",
        "total_price = add_two_products(500, 10)\n",
        "print(f\"{total_price}円\")\n"
      ],
      "metadata": {
        "colab": {
          "base_uri": "https://localhost:8080/"
        },
        "id": "KpQv7aftB_mu",
        "outputId": "c9fc9398-5b72-489c-b1e7-409ae11dbeec"
      },
      "execution_count": 7,
      "outputs": [
        {
          "output_type": "stream",
          "name": "stdout",
          "text": [
            "550.0円\n"
          ]
        }
      ]
    }
  ]
}