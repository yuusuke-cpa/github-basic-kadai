{
  "nbformat": 4,
  "nbformat_minor": 0,
  "metadata": {
    "colab": {
      "provenance": []
    },
    "kernelspec": {
      "name": "python3",
      "display_name": "Python 3"
    },
    "language_info": {
      "name": "python"
    }
  },
  "cells": [
    {
      "cell_type": "code",
      "source": [
        "def add_two_products(price,tax):\n",
        "  total = price + tax\n",
        "  print(f\"{total}円\")\n",
        "\n",
        "add_two_products(500,50)"
      ],
      "metadata": {
        "colab": {
          "base_uri": "https://localhost:8080/"
        },
        "id": "dXoXCZGCqARB",
        "outputId": "cdc8a767-93a8-42b2-e4ad-dc54ef3ca024"
      },
      "execution_count": 2,
      "outputs": [
        {
          "output_type": "stream",
          "name": "stdout",
          "text": [
            "550円\n"
          ]
        }
      ]
    }
  ]
}