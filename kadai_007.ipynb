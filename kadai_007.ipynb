{
  "cells": [
    {
      "cell_type": "code",
      "execution_count": 17,
      "metadata": {
        "colab": {
          "base_uri": "https://localhost:8080/"
        },
        "id": "dhWSiUaJnw-u",
        "outputId": "cd9c45e0-19a4-46f7-bda5-fbc90aac0944"
      },
      "outputs": [
        {
          "name": "stdout",
          "output_type": "stream",
          "text": [
            "水曜日は晴れです\n",
            "晴れ\n"
          ]
        }
      ],
      "source": [
        "list= [\"月曜日は晴れです\",\"火曜日は雨です\",\"水曜日は晴れです\",\"木曜日は晴れです\",\"金曜日は曇りです\",\"土曜日は曇りです\",\"日曜日は雷雨です\"]\n",
        "dictionary = {\"mon\": \"晴れ\",\"tue\": \"雨\",\"wed\": \"晴れ\",\"thu\": \"晴れ\",\"fri\": \"曇り\",\"sat\": \"曇りのち雨\",\"sun\": \"雷雨\"}\n",
        "print(list[2])\n",
        "print(dictionary[\"wed\"])"
      ]
    }
  ],
  "metadata": {
    "colab": {
      "provenance": []
    },
    "kernelspec": {
      "display_name": "Python 3",
      "name": "python3"
    },
    "language_info": {
      "name": "python"
    }
  },
  "nbformat": 4,
  "nbformat_minor": 0
}
