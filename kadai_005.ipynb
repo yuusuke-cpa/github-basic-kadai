{
  "cells": [
    {
      "cell_type": "code",
      "execution_count": null,
      "metadata": {
        "colab": {
          "base_uri": "https://localhost:8080/"
        },
        "id": "9_DsQDtNFO4y",
        "outputId": "68687c87-9bb6-4269-a69e-3661bf33b4fc"
      },
      "outputs": [
        {
          "name": "stdout",
          "output_type": "stream",
          "text": [
            "75.0cm2\n"
          ]
        }
      ],
      "source": [
        "hen_ue = 10\n",
        "hen_shita = 20\n",
        "hen_takasa = 5\n",
        "area = (hen_ue + hen_shita) * hen_takasa / 2\n",
        "print(f\"{area}cm2\")"
      ]
    }
  ],
  "metadata": {
    "colab": {
      "provenance": []
    },
    "kernelspec": {
      "display_name": "Python 3",
      "name": "python3"
    },
    "language_info": {
      "name": "python"
    }
  },
  "nbformat": 4,
  "nbformat_minor": 0
}
