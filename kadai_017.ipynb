{
  "nbformat": 4,
  "nbformat_minor": 0,
  "metadata": {
    "colab": {
      "provenance": []
    },
    "kernelspec": {
      "name": "python3",
      "display_name": "Python 3"
    },
    "language_info": {
      "name": "python"
    }
  },
  "cells": [
    {
      "cell_type": "code",
      "source": [
        "class Human:\n",
        "  def __init__(self, name, age):\n",
        "        self.name = name\n",
        "        self.age = age\n",
        "\n",
        "  def check_adult(self):\n",
        "    if self.age >= 20:\n",
        "      print(f\"{self.name}は大人です\")\n",
        "    else:\n",
        "      print(f\"{self.name}は大人ではありません\")\n",
        "\n",
        "# Humanクラスのインスタンスを複数生成してリストに追加\n",
        "humans = [\n",
        "    Human(\"侍太郎\", 36),\n",
        "    Human(\"侍花子\", 26),\n",
        "    Human(\"侍若君\", 18)\n",
        "]\n",
        "# リストの各要素に対してcheck_adultメソッドを呼び出す\n",
        "for human in humans:\n",
        "    human.check_adult()"
      ],
      "metadata": {
        "colab": {
          "base_uri": "https://localhost:8080/"
        },
        "id": "GLtrXzg26XtJ",
        "outputId": "8e2f35fa-3596-4cfd-d14c-49fc530a01dd"
      },
      "execution_count": 8,
      "outputs": [
        {
          "output_type": "stream",
          "name": "stdout",
          "text": [
            "侍太郎は大人です\n",
            "侍花子は大人です\n",
            "侍若君は大人ではありません\n"
          ]
        }
      ]
    },
    {
      "cell_type": "markdown",
      "source": [],
      "metadata": {
        "id": "EYrruig-mGUK"
      }
    }
  ]
}